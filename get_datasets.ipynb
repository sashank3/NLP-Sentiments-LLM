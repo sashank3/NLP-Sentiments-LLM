{
 "cells": [
  {
   "cell_type": "markdown",
   "metadata": {
    "id": "EPd9hZXtC1RB",
    "pycharm": {
     "name": "#%% md\n"
    }
   },
   "source": [
    "## The Data"
   ]
  },
  {
   "cell_type": "code",
   "execution_count": 5,
   "metadata": {
    "colab": {
     "base_uri": "https://localhost:8080/"
    },
    "id": "QYulutFq3U74",
    "outputId": "845fb976-5aff-4f98-f200-118dea518ef5",
    "pycharm": {
     "name": "#%%\n"
    }
   },
   "outputs": [],
   "source": [
    "import tensorflow as tf\n",
    "import pandas as pd\n",
    "import numpy as np"
   ]
  },
  {
   "cell_type": "code",
   "execution_count": 25,
   "outputs": [
    {
     "name": "stdout",
     "output_type": "stream",
     "text": [
      "         target          id                          date      flag  \\\n",
      "0             0  1467810369  Mon Apr 06 22:19:45 PDT 2009  NO_QUERY   \n",
      "1             0  1467810672  Mon Apr 06 22:19:49 PDT 2009  NO_QUERY   \n",
      "2             0  1467810917  Mon Apr 06 22:19:53 PDT 2009  NO_QUERY   \n",
      "3             0  1467811184  Mon Apr 06 22:19:57 PDT 2009  NO_QUERY   \n",
      "4             0  1467811193  Mon Apr 06 22:19:57 PDT 2009  NO_QUERY   \n",
      "...         ...         ...                           ...       ...   \n",
      "1599995       1  2193601966  Tue Jun 16 08:40:49 PDT 2009  NO_QUERY   \n",
      "1599996       1  2193601969  Tue Jun 16 08:40:49 PDT 2009  NO_QUERY   \n",
      "1599997       1  2193601991  Tue Jun 16 08:40:49 PDT 2009  NO_QUERY   \n",
      "1599998       1  2193602064  Tue Jun 16 08:40:49 PDT 2009  NO_QUERY   \n",
      "1599999       1  2193602129  Tue Jun 16 08:40:50 PDT 2009  NO_QUERY   \n",
      "\n",
      "                    user                                               text  \n",
      "0        _TheSpecialOne_  @switchfoot http://twitpic.com/2y1zl - Awww, t...  \n",
      "1          scotthamilton  is upset that he can't update his Facebook by ...  \n",
      "2               mattycus  @Kenichan I dived many times for the ball. Man...  \n",
      "3                ElleCTF    my whole body feels itchy and like its on fire   \n",
      "4                 Karoli  @nationwideclass no, it's not behaving at all....  \n",
      "...                  ...                                                ...  \n",
      "1599995  AmandaMarie1028  Just woke up. Having no school is the best fee...  \n",
      "1599996      TheWDBoards  TheWDB.com - Very cool to hear old Walt interv...  \n",
      "1599997           bpbabe  Are you ready for your MoJo Makeover? Ask me f...  \n",
      "1599998     tinydiamondz  Happy 38th Birthday to my boo of alll time!!! ...  \n",
      "1599999   RyanTrevMorris  happy #charitytuesday @theNSPCC @SparksCharity...  \n",
      "\n",
      "[1600000 rows x 6 columns]\n"
     ]
    }
   ],
   "source": [
    "df = pd.read_csv(\"./data/training.1600000.processed.noemoticon.csv/training.1600000.processed.noemoticon.csv\", names=[\"target\", \"id\", \"date\", \"flag\", \"user\", \"text\"], encoding=\"ansi\")\n",
    "df[\"target\"] = np.where(df[\"target\"] != 4, 0, 1)\n",
    "print(df)"
   ],
   "metadata": {
    "collapsed": false,
    "pycharm": {
     "name": "#%%\n"
    }
   }
  },
  {
   "cell_type": "code",
   "execution_count": 22,
   "outputs": [
    {
     "name": "stdout",
     "output_type": "stream",
     "text": [
      "                                                   text  target\n",
      "2     The international electronic industry company ...       0\n",
      "3     With the new production plant the company woul...       1\n",
      "4     According to the company 's updated strategy f...       1\n",
      "5     FINANCING OF ASPOCOMP 'S GROWTH Aspocomp is ag...       1\n",
      "6     For the last quarter of 2010 , Componenta 's n...       1\n",
      "...                                                 ...     ...\n",
      "4840  HELSINKI Thomson Financial - Shares in Cargote...       0\n",
      "4841  LONDON MarketWatch -- Share prices ended lower...       0\n",
      "4843  Operating profit fell to EUR 35.4 mn from EUR ...       0\n",
      "4844  Net sales of the Paper segment decreased to EU...       0\n",
      "4845  Sales in Finland decreased by 10.5 % in Januar...       0\n",
      "\n",
      "[1967 rows x 2 columns]\n"
     ]
    }
   ],
   "source": [
    "financial_df = pd.read_csv(\"./data/FinancialPhraseBank-v1.0/Sentences_50Agree.txt\", names=[\"text\",\"target\"], encoding=\"windows-1252\", header=None, delimiter=\"@\")\n",
    "\n",
    "financial_df = financial_df.loc[financial_df[\"target\"] != \"neutral\"]\n",
    "financial_df[\"target\"] = np.where(financial_df[\"target\"]==\"positive\", 1,0)\n",
    "print(financial_df)"
   ],
   "metadata": {
    "collapsed": false,
    "pycharm": {
     "name": "#%%\n"
    }
   }
  },
  {
   "cell_type": "code",
   "execution_count": 28,
   "outputs": [
    {
     "name": "stdout",
     "output_type": "stream",
     "text": [
      "                                                       text  target\n",
      "1.0       Try talking with ChatGPT, our new AI system wh...       1\n",
      "3.0       THRILLED to share that ChatGPT, our new model ...       1\n",
      "4.0       As of 2 minutes ago, @OpenAI released their ne...       0\n",
      "5.0       Just launched ChatGPT, our new AI system which...       1\n",
      "6.0       As of 2 minutes ago, @OpenAI released their ne...       0\n",
      "...                                                     ...     ...\n",
      "219287.0  One of my new favorite thing to do with #ChatG...       1\n",
      "219289.0  Other Software Projects Are Now Trying to Repl...       0\n",
      "219290.0  I asked #ChatGPT to write a #NYE Joke for SEOs...       1\n",
      "219291.0  chatgpt is being disassembled until it can onl...       0\n",
      "219292.0  2023 predictions by #chatGPT. Nothing really s...       0\n",
      "\n",
      "[163807 rows x 2 columns]\n"
     ]
    }
   ],
   "source": [
    "chatgpt_df = pd.read_csv(\"./data/chatGPTsentiment/file.csv\", names=[\"text\",\"target\"])\n",
    "\n",
    "chatgpt_df = chatgpt_df.loc[chatgpt_df[\"target\"] != \"neutral\"]\n",
    "chatgpt_df[\"target\"] = np.where(chatgpt_df[\"target\"]==\"good\", 1,0)\n",
    "chatgpt_df = chatgpt_df[1:]\n",
    "print(chatgpt_df)"
   ],
   "metadata": {
    "collapsed": false,
    "pycharm": {
     "name": "#%%\n"
    }
   }
  },
  {
   "cell_type": "code",
   "execution_count": null,
   "outputs": [],
   "source": [],
   "metadata": {
    "collapsed": false,
    "pycharm": {
     "name": "#%%\n"
    }
   }
  }
 ],
 "metadata": {
  "accelerator": "GPU",
  "colab": {
   "gpuType": "T4",
   "provenance": []
  },
  "kernelspec": {
   "display_name": "Python 3",
   "name": "python3"
  },
  "language_info": {
   "codemirror_mode": {
    "name": "ipython",
    "version": 3
   },
   "file_extension": ".py",
   "mimetype": "text/x-python",
   "name": "python",
   "nbconvert_exporter": "python",
   "pygments_lexer": "ipython3",
   "version": "3.10.9"
  }
 },
 "nbformat": 4,
 "nbformat_minor": 0
}
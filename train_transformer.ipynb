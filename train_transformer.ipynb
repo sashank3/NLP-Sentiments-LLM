{
 "cells": [
  {
   "cell_type": "markdown",
   "source": [
    "# Transformer Model #\n",
    "This notebook contains all the code need to train and evaluate our transformer model. Double check that you have the transformer.py file is in the same directory as this notebook along with the 3 datasets in the data folder. Run the cells in this notebook one by one."
   ],
   "metadata": {
    "collapsed": false,
    "pycharm": {
     "name": "#%% md\n"
    }
   }
  },
  {
   "cell_type": "code",
   "execution_count": 1,
   "outputs": [],
   "source": [
    "import torch\n",
    "import torch.nn as nn\n",
    "import torch.optim as optim\n",
    "import torch.utils.data as data\n",
    "from transformer import Transformer\n",
    "import pandas as pd\n",
    "import numpy as np\n",
    "import torch\n",
    "import matplotlib.pyplot as plt"
   ],
   "metadata": {
    "collapsed": false,
    "pycharm": {
     "name": "#%%\n"
    }
   }
  },
  {
   "cell_type": "code",
   "execution_count": 2,
   "outputs": [
    {
     "name": "stdout",
     "output_type": "stream",
     "text": [
      "         target          id                          date      flag  \\\n",
      "0             0  1467810369  Mon Apr 06 22:19:45 PDT 2009  NO_QUERY   \n",
      "1             0  1467810672  Mon Apr 06 22:19:49 PDT 2009  NO_QUERY   \n",
      "2             0  1467810917  Mon Apr 06 22:19:53 PDT 2009  NO_QUERY   \n",
      "3             0  1467811184  Mon Apr 06 22:19:57 PDT 2009  NO_QUERY   \n",
      "4             0  1467811193  Mon Apr 06 22:19:57 PDT 2009  NO_QUERY   \n",
      "...         ...         ...                           ...       ...   \n",
      "1599995       1  2193601966  Tue Jun 16 08:40:49 PDT 2009  NO_QUERY   \n",
      "1599996       1  2193601969  Tue Jun 16 08:40:49 PDT 2009  NO_QUERY   \n",
      "1599997       1  2193601991  Tue Jun 16 08:40:49 PDT 2009  NO_QUERY   \n",
      "1599998       1  2193602064  Tue Jun 16 08:40:49 PDT 2009  NO_QUERY   \n",
      "1599999       1  2193602129  Tue Jun 16 08:40:50 PDT 2009  NO_QUERY   \n",
      "\n",
      "                    user                                               text  \n",
      "0        _TheSpecialOne_  @switchfoot http://twitpic.com/2y1zl - Awww, t...  \n",
      "1          scotthamilton  is upset that he can't update his Facebook by ...  \n",
      "2               mattycus  @Kenichan I dived many times for the ball. Man...  \n",
      "3                ElleCTF    my whole body feels itchy and like its on fire   \n",
      "4                 Karoli  @nationwideclass no, it's not behaving at all....  \n",
      "...                  ...                                                ...  \n",
      "1599995  AmandaMarie1028  Just woke up. Having no school is the best fee...  \n",
      "1599996      TheWDBoards  TheWDB.com - Very cool to hear old Walt interv...  \n",
      "1599997           bpbabe  Are you ready for your MoJo Makeover? Ask me f...  \n",
      "1599998     tinydiamondz  Happy 38th Birthday to my boo of alll time!!! ...  \n",
      "1599999   RyanTrevMorris  happy #charitytuesday @theNSPCC @SparksCharity...  \n",
      "\n",
      "[1600000 rows x 6 columns]\n"
     ]
    }
   ],
   "source": [
    "tweet_df = pd.read_csv(\"./data/training.1600000.processed.noemoticon.csv/training.1600000.processed.noemoticon.csv\", names=[\"target\", \"id\", \"date\", \"flag\", \"user\", \"text\"], encoding=\"ansi\")\n",
    "tweet_df[\"target\"] = np.where(tweet_df[\"target\"] != 4, 0, 1)\n",
    "print(tweet_df)"
   ],
   "metadata": {
    "collapsed": false,
    "pycharm": {
     "name": "#%%\n"
    }
   }
  },
  {
   "cell_type": "code",
   "execution_count": 3,
   "outputs": [
    {
     "name": "stdout",
     "output_type": "stream",
     "text": [
      "              id                                               text  target\n",
      "2            1.0  Try talking with ChatGPT, our new AI system wh...       1\n",
      "4            3.0  THRILLED to share that ChatGPT, our new model ...       1\n",
      "5            4.0  As of 2 minutes ago, @OpenAI released their ne...       0\n",
      "6            5.0  Just launched ChatGPT, our new AI system which...       1\n",
      "7            6.0  As of 2 minutes ago, @OpenAI released their ne...       0\n",
      "...          ...                                                ...     ...\n",
      "219288  219287.0  One of my new favorite thing to do with #ChatG...       1\n",
      "219290  219289.0  Other Software Projects Are Now Trying to Repl...       0\n",
      "219291  219290.0  I asked #ChatGPT to write a #NYE Joke for SEOs...       1\n",
      "219292  219291.0  chatgpt is being disassembled until it can onl...       0\n",
      "219293  219292.0  2023 predictions by #chatGPT. Nothing really s...       0\n",
      "\n",
      "[163807 rows x 3 columns]\n"
     ]
    }
   ],
   "source": [
    "chatgpt_df = pd.read_csv(\"./data/chatGPTsentiment/file.csv\", names=[\"id\",\"text\",\"target\"])\n",
    "\n",
    "chatgpt_df = chatgpt_df.loc[chatgpt_df[\"target\"] != \"neutral\"]\n",
    "chatgpt_df[\"target\"] = np.where(chatgpt_df[\"target\"]==\"good\", 1,0)\n",
    "chatgpt_df = chatgpt_df[1:]\n",
    "print(chatgpt_df)"
   ],
   "metadata": {
    "collapsed": false,
    "pycharm": {
     "name": "#%%\n"
    }
   }
  },
  {
   "cell_type": "code",
   "execution_count": 4,
   "outputs": [
    {
     "name": "stdout",
     "output_type": "stream",
     "text": [
      "                                                   text  target\n",
      "2     The international electronic industry company ...       0\n",
      "3     With the new production plant the company woul...       1\n",
      "4     According to the company 's updated strategy f...       1\n",
      "5     FINANCING OF ASPOCOMP 'S GROWTH Aspocomp is ag...       1\n",
      "6     For the last quarter of 2010 , Componenta 's n...       1\n",
      "...                                                 ...     ...\n",
      "4840  HELSINKI Thomson Financial - Shares in Cargote...       0\n",
      "4841  LONDON MarketWatch -- Share prices ended lower...       0\n",
      "4843  Operating profit fell to EUR 35.4 mn from EUR ...       0\n",
      "4844  Net sales of the Paper segment decreased to EU...       0\n",
      "4845  Sales in Finland decreased by 10.5 % in Januar...       0\n",
      "\n",
      "[1967 rows x 2 columns]\n"
     ]
    }
   ],
   "source": [
    "financial_df = pd.read_csv(\"./data/FinancialPhraseBank-v1.0/Sentences_50Agree.txt\", names=[\"text\",\"target\"], encoding=\"windows-1252\", header=None, delimiter=\"@\")\n",
    "\n",
    "financial_df = financial_df.loc[financial_df[\"target\"] != \"neutral\"]\n",
    "financial_df[\"target\"] = np.where(financial_df[\"target\"]==\"positive\", 1,0)\n",
    "print(financial_df)"
   ],
   "metadata": {
    "collapsed": false,
    "pycharm": {
     "name": "#%%\n"
    }
   }
  },
  {
   "cell_type": "markdown",
   "source": [
    "# Train and Test Set #\n",
    "We will take 1% of the twitter data set and create a train and test set from it."
   ],
   "metadata": {
    "collapsed": false,
    "pycharm": {
     "name": "#%% md\n"
    }
   }
  },
  {
   "cell_type": "code",
   "execution_count": 5,
   "outputs": [],
   "source": [
    "PERCENT_OF_DATASET = 0.01"
   ],
   "metadata": {
    "collapsed": false,
    "pycharm": {
     "name": "#%%\n"
    }
   }
  },
  {
   "cell_type": "code",
   "execution_count": 6,
   "outputs": [
    {
     "name": "stdout",
     "output_type": "stream",
     "text": [
      "(12800, 6)\n",
      "(3200, 6)\n"
     ]
    }
   ],
   "source": [
    "sample = tweet_df.sample(frac=PERCENT_OF_DATASET, random_state=1234)\n",
    "\n",
    "tweet_train = sample[:int(sample.shape[0]*0.8)]\n",
    "tweet_test = sample[-int(sample.shape[0]*0.2):]\n",
    "\n",
    "sample = chatgpt_df.sample(frac=PERCENT_OF_DATASET, random_state=1234)\n",
    "\n",
    "chatgpt_test = sample\n",
    "\n",
    "print(tweet_train.shape)\n",
    "print(tweet_test.shape)"
   ],
   "metadata": {
    "collapsed": false,
    "pycharm": {
     "name": "#%%\n"
    }
   }
  },
  {
   "cell_type": "markdown",
   "source": [
    "# Tokenization #"
   ],
   "metadata": {
    "collapsed": false,
    "pycharm": {
     "name": "#%% md\n"
    }
   }
  },
  {
   "cell_type": "code",
   "execution_count": 7,
   "outputs": [],
   "source": [
    "import nltk"
   ],
   "metadata": {
    "collapsed": false,
    "pycharm": {
     "name": "#%%\n"
    }
   }
  },
  {
   "cell_type": "code",
   "execution_count": 8,
   "outputs": [],
   "source": [
    "NGRAM = 1 # The ngram language model you want to train"
   ],
   "metadata": {
    "collapsed": false,
    "pycharm": {
     "name": "#%%\n"
    }
   }
  },
  {
   "cell_type": "code",
   "execution_count": 9,
   "outputs": [
    {
     "name": "stderr",
     "output_type": "stream",
     "text": [
      "[nltk_data] Downloading package punkt to\n",
      "[nltk_data]     C:\\Users\\jjlnb\\AppData\\Roaming\\nltk_data...\n",
      "[nltk_data]   Package punkt is already up-to-date!\n"
     ]
    }
   ],
   "source": [
    "train_text = tweet_train[\"text\"]\n",
    "test_text = tweet_test[\"text\"]\n",
    "chatgpt_text = chatgpt_test[\"text\"]\n",
    "financial_text = financial_df[\"text\"]\n",
    "\n",
    "nltk.download('punkt')\n",
    "\n",
    "SENTENCE_BEGIN = \"<s>\"\n",
    "SENTENCE_END = \"</s>\"\n",
    "\n",
    "def tokenize_line(line: str, ngram: int,\n",
    "                   sentence_begin: str=SENTENCE_BEGIN,\n",
    "                   sentence_end: str=SENTENCE_END):\n",
    "  \"\"\"\n",
    "  Tokenize a single string. Glue on the appropriate number of\n",
    "  sentence begin tokens and sentence end tokens (ngram - 1), except\n",
    "  for the case when ngram == 1, when there will be one sentence begin\n",
    "  and one sentence end token.\n",
    "  Args:\n",
    "    line (str): text to tokenize\n",
    "    ngram (int): ngram preparation number\n",
    "    sentence_begin (str): sentence begin token value\n",
    "    sentence_end (str): sentence end token value\n",
    "\n",
    "  Returns:\n",
    "    list of strings - a single line tokenized\n",
    "  \"\"\"\n",
    "  inner_pieces = nltk.word_tokenize(line)\n",
    "\n",
    "  if ngram == 1:\n",
    "    tokens = [sentence_begin] + inner_pieces + [sentence_end]\n",
    "  else:\n",
    "    tokens = ([sentence_begin] * (ngram - 1)) + inner_pieces + ([sentence_end] * (ngram - 1))\n",
    "\n",
    "  return tokens\n",
    "\n",
    "\n",
    "train_data=[]\n",
    "test_data=[]\n",
    "chatgpt_data=[]\n",
    "financial_data=[]\n",
    "\n",
    "for index in train_text.index:\n",
    "    train_data.append(tokenize_line(train_text.loc[index].lower(), NGRAM))\n",
    "\n",
    "for index in test_text.index:\n",
    "    test_data.append(tokenize_line(test_text.loc[index].lower(), NGRAM))\n",
    "\n",
    "for index in chatgpt_text.index:\n",
    "    chatgpt_data.append(tokenize_line(chatgpt_text.loc[index].lower(), NGRAM))\n",
    "\n",
    "for index in financial_text.index:\n",
    "    financial_data.append(tokenize_line(financial_text.loc[index].lower(), NGRAM))"
   ],
   "metadata": {
    "collapsed": false,
    "pycharm": {
     "name": "#%%\n"
    }
   }
  },
  {
   "cell_type": "markdown",
   "source": [
    "# Training Setup #\n",
    "We set up the different generators for each of our datasets."
   ],
   "metadata": {
    "collapsed": false,
    "pycharm": {
     "name": "#%% md\n"
    }
   }
  },
  {
   "cell_type": "code",
   "execution_count": 10,
   "outputs": [],
   "source": [
    "from keras.preprocessing.text import Tokenizer"
   ],
   "metadata": {
    "collapsed": false,
    "pycharm": {
     "name": "#%%\n"
    }
   }
  },
  {
   "cell_type": "code",
   "execution_count": 11,
   "outputs": [],
   "source": [
    "word_tokenizer = Tokenizer()\n",
    "word_tokenizer.fit_on_texts(train_data)\n",
    "\n",
    "words_encoded_train = word_tokenizer.texts_to_sequences(train_data)\n",
    "words_encoded_test = word_tokenizer.texts_to_sequences(test_data)\n",
    "chatgpt_encoded = word_tokenizer.texts_to_sequences(chatgpt_data)\n",
    "financial_encoded = word_tokenizer.texts_to_sequences(financial_data)"
   ],
   "metadata": {
    "collapsed": false,
    "pycharm": {
     "name": "#%%\n"
    }
   }
  },
  {
   "cell_type": "code",
   "execution_count": 12,
   "outputs": [],
   "source": [
    "train_X = words_encoded_train\n",
    "train_Y = tweet_train[\"target\"]\n",
    "\n",
    "test_X = words_encoded_test\n",
    "test_Y = tweet_test[\"target\"]\n",
    "\n",
    "chatgpt_X = chatgpt_encoded\n",
    "chatgpt_Y = chatgpt_test[\"target\"]\n",
    "\n",
    "financial_X = financial_encoded\n",
    "financial_Y = financial_df[\"target\"]"
   ],
   "metadata": {
    "collapsed": false,
    "pycharm": {
     "name": "#%%\n"
    }
   }
  },
  {
   "cell_type": "code",
   "execution_count": 13,
   "outputs": [],
   "source": [
    "num_sequences_per_batch = 64\n",
    "src_vocab_size = len(word_tokenizer.index_word)+1\n",
    "max_seq_length = 100"
   ],
   "metadata": {
    "collapsed": false,
    "pycharm": {
     "name": "#%%\n"
    }
   }
  },
  {
   "cell_type": "code",
   "execution_count": 14,
   "outputs": [],
   "source": [
    "def data_generator(X, Y, num_sequences_per_batch=64):\n",
    "    \"\"\"\n",
    "    Data generator that yields pairings of datapoints and labels in batches of size num_sequences_per_batch.\n",
    "    :param X: The datapoints\n",
    "    :param Y: The labels\n",
    "    :param num_sequences_per_batch: The number of batches to yield\n",
    "    :return:\n",
    "    \"\"\"\n",
    "    total_batches = len(X) // num_sequences_per_batch\n",
    "\n",
    "    while True:\n",
    "        batch_count = 0\n",
    "\n",
    "        pad = lambda a : a[0:max_seq_length] if len(a) > max_seq_length else a + [2] * (max_seq_length-len(a))\n",
    "\n",
    "        while batch_count < total_batches:\n",
    "\n",
    "            padded_sequences = []\n",
    "            for sequence in X[batch_count*num_sequences_per_batch:(batch_count+1)*num_sequences_per_batch]:\n",
    "                padded_sequences += [pad(sequence)]\n",
    "\n",
    "            yield torch.from_numpy(np.array(padded_sequences, dtype=int)), torch.from_numpy(np.array(Y[batch_count*num_sequences_per_batch:(batch_count+1)*num_sequences_per_batch], dtype=float))\n",
    "            batch_count+=1\n",
    "\n"
   ],
   "metadata": {
    "collapsed": false,
    "pycharm": {
     "name": "#%%\n"
    }
   }
  },
  {
   "cell_type": "code",
   "execution_count": 15,
   "outputs": [],
   "source": [
    "train_generator = data_generator(train_X, train_Y)\n",
    "test_generator = data_generator(test_X, test_Y)\n",
    "\n",
    "chatgpt_generator = data_generator(chatgpt_X, chatgpt_Y)\n",
    "financial_generator = data_generator(financial_X, financial_Y)\n",
    "\n"
   ],
   "metadata": {
    "collapsed": false,
    "pycharm": {
     "name": "#%%\n"
    }
   }
  },
  {
   "cell_type": "markdown",
   "source": [
    "# Baseline #\n",
    "Using sklearn's Logistic Regression model, we train a model on the tweets training set and then evaluate it on the remaining datasets."
   ],
   "metadata": {
    "collapsed": false,
    "pycharm": {
     "name": "#%% md\n"
    }
   }
  },
  {
   "cell_type": "code",
   "execution_count": 16,
   "outputs": [],
   "source": [
    "from sklearn.linear_model import LogisticRegression"
   ],
   "metadata": {
    "collapsed": false,
    "pycharm": {
     "name": "#%%\n"
    }
   }
  },
  {
   "cell_type": "code",
   "execution_count": 17,
   "outputs": [],
   "source": [
    "def featurize_counts(X, num_tokens = 10000):\n",
    "    \"\"\"\n",
    "    Featurizes each datapoint as an array of the counts of each token. Only takes into account the first num_tokens.\n",
    "    :param X:\n",
    "    :param num_tokens:\n",
    "    :return:\n",
    "    \"\"\"\n",
    "\n",
    "    pad = lambda a : a[0:max_seq_length] if len(a) > max_seq_length else a + [2] * (max_seq_length-len(a))\n",
    "\n",
    "    padded_sequences = []\n",
    "    for sequence in X:\n",
    "        padded_sequences += [pad(sequence)]\n",
    "\n",
    "    arr = np.array(padded_sequences)\n",
    "\n",
    "    counts = np.asarray([[0] * num_tokens] * len(arr))\n",
    "\n",
    "    for i in range(counts.shape[1]):\n",
    "        counts[:, i] = np.sum(np.where(arr == i, 1, 0), axis=1)\n",
    "\n",
    "    return np.array(counts)\n",
    "\n",
    "\n"
   ],
   "metadata": {
    "collapsed": false,
    "pycharm": {
     "name": "#%%\n"
    }
   }
  },
  {
   "cell_type": "code",
   "execution_count": 18,
   "outputs": [],
   "source": [
    "tweet_train_counts = featurize_counts(train_X)\n",
    "tweet_test_counts = featurize_counts(test_X)\n",
    "chatgpt_counts = featurize_counts(chatgpt_X)\n",
    "financial_counts = featurize_counts(financial_X)\n"
   ],
   "metadata": {
    "collapsed": false,
    "pycharm": {
     "name": "#%%\n"
    }
   }
  },
  {
   "cell_type": "code",
   "execution_count": 19,
   "outputs": [
    {
     "name": "stdout",
     "output_type": "stream",
     "text": [
      "Tweet Train Accuracy: 0.897421875\n",
      "Tweet Test Accuracy: 0.7584375\n",
      "ChatGPT Accuracy: 0.47435897435897434\n",
      "Financial Accuracy: 0.6329435688866294\n"
     ]
    }
   ],
   "source": [
    "log_reg = LogisticRegression(max_iter=1000, solver='liblinear')\n",
    "\n",
    "log_reg.fit(tweet_train_counts, train_Y)\n",
    "\n",
    "train_accuracy = log_reg.score(tweet_train_counts, train_Y)\n",
    "test_accuracy = log_reg.score(tweet_test_counts, test_Y)\n",
    "\n",
    "chatgpt_accuracy = log_reg.score(chatgpt_counts, chatgpt_Y)\n",
    "financial_accuracy = log_reg.score(financial_counts, financial_Y)\n",
    "\n",
    "print(f\"Tweet Train Accuracy: {train_accuracy}\")\n",
    "print(f\"Tweet Test Accuracy: {test_accuracy}\")\n",
    "print(f\"ChatGPT Accuracy: {chatgpt_accuracy}\")\n",
    "print(f\"Financial Accuracy: {financial_accuracy}\")"
   ],
   "metadata": {
    "collapsed": false,
    "pycharm": {
     "name": "#%%\n"
    }
   }
  },
  {
   "cell_type": "markdown",
   "source": [
    "# Training the Transformer #\n",
    "Initializes the transformer and trains it on the train set for 100 epochs. Model weights are then saved to a file where they can be loaded from at a later point."
   ],
   "metadata": {
    "collapsed": false,
    "pycharm": {
     "name": "#%% md\n"
    }
   }
  },
  {
   "cell_type": "code",
   "execution_count": 20,
   "outputs": [],
   "source": [
    "MODEL_SAVE_FILE = \"model_file\"\n",
    "MODEL_LOAD_FILE = \"100epoch\" # Change this to load a previously trained model"
   ],
   "metadata": {
    "collapsed": false,
    "pycharm": {
     "name": "#%%\n"
    }
   }
  },
  {
   "cell_type": "code",
   "execution_count": 21,
   "outputs": [],
   "source": [
    "d_model = 52\n",
    "num_heads = 4\n",
    "num_layers = 4\n",
    "d_ff = 128"
   ],
   "metadata": {
    "collapsed": false,
    "pycharm": {
     "name": "#%%\n"
    }
   }
  },
  {
   "cell_type": "code",
   "execution_count": 16,
   "outputs": [
    {
     "name": "stdout",
     "output_type": "stream",
     "text": [
      "Epoch: 1, Loss: 417.38681510463357\n",
      "Epoch: 2, Loss: 416.0613031089306\n",
      "Epoch: 3, Loss: 415.1883968412876\n",
      "Epoch: 4, Loss: 414.3641142435372\n",
      "Epoch: 5, Loss: 413.56775603815913\n",
      "Epoch: 6, Loss: 412.829823166132\n",
      "Epoch: 7, Loss: 412.1891930960119\n",
      "Epoch: 8, Loss: 411.6264988258481\n",
      "Epoch: 9, Loss: 411.11192544549704\n",
      "Epoch: 10, Loss: 410.62916311994195\n",
      "Epoch: 11, Loss: 410.1692468300462\n",
      "Epoch: 12, Loss: 409.72696144133806\n",
      "Epoch: 13, Loss: 409.2981412783265\n",
      "Epoch: 14, Loss: 408.87981412932277\n",
      "Epoch: 15, Loss: 408.46972696483135\n",
      "Epoch: 16, Loss: 408.06578831374645\n",
      "Epoch: 17, Loss: 407.6669303290546\n",
      "Epoch: 18, Loss: 407.2728947289288\n",
      "Epoch: 19, Loss: 406.88328360021114\n",
      "Epoch: 20, Loss: 406.4979512952268\n",
      "Epoch: 21, Loss: 406.1165746450424\n",
      "Epoch: 22, Loss: 405.7385733090341\n",
      "Epoch: 23, Loss: 405.3637406229973\n",
      "Epoch: 24, Loss: 404.99174650758505\n",
      "Epoch: 25, Loss: 404.62253419682384\n",
      "Epoch: 26, Loss: 404.25608991086483\n",
      "Epoch: 27, Loss: 403.8922262750566\n",
      "Epoch: 28, Loss: 403.53125346824527\n",
      "Epoch: 29, Loss: 403.1731316111982\n",
      "Epoch: 30, Loss: 402.81748194247484\n",
      "Epoch: 31, Loss: 402.46371150016785\n",
      "Epoch: 32, Loss: 402.1116570457816\n",
      "Epoch: 33, Loss: 401.761034488678\n",
      "Epoch: 34, Loss: 401.4115327708423\n",
      "Epoch: 35, Loss: 401.0630041398108\n",
      "Epoch: 36, Loss: 400.7151652947068\n",
      "Epoch: 37, Loss: 400.36888594180346\n",
      "Epoch: 38, Loss: 400.02529498562217\n",
      "Epoch: 39, Loss: 399.68681767210364\n",
      "Epoch: 40, Loss: 399.3568450398743\n",
      "Epoch: 41, Loss: 399.03908180072904\n",
      "Epoch: 42, Loss: 398.74264573678374\n",
      "Epoch: 43, Loss: 398.5142645649612\n",
      "Epoch: 44, Loss: 398.7227150350809\n",
      "Epoch: 45, Loss: 398.99389024451375\n",
      "Epoch: 46, Loss: 398.42277020961046\n",
      "Epoch: 47, Loss: 397.9673076234758\n",
      "Epoch: 48, Loss: 397.5620914809406\n",
      "Epoch: 49, Loss: 397.20510733500123\n",
      "Epoch: 50, Loss: 396.8975945971906\n",
      "Epoch: 51, Loss: 396.6257890313864\n",
      "Epoch: 52, Loss: 396.3462712354958\n",
      "Epoch: 53, Loss: 396.0339543707669\n",
      "Epoch: 54, Loss: 395.7130459435284\n",
      "Epoch: 55, Loss: 395.39558859169483\n",
      "Epoch: 56, Loss: 395.0606531240046\n",
      "Epoch: 57, Loss: 394.7162739224732\n",
      "Epoch: 58, Loss: 394.3755204230547\n",
      "Epoch: 59, Loss: 394.0429507419467\n",
      "Epoch: 60, Loss: 393.71349892392755\n",
      "Epoch: 61, Loss: 393.3859203271568\n",
      "Epoch: 62, Loss: 393.06626295670867\n",
      "Epoch: 63, Loss: 392.772216334939\n",
      "Epoch: 64, Loss: 392.536146402359\n",
      "Epoch: 65, Loss: 392.4315902851522\n",
      "Epoch: 66, Loss: 392.55875311791897\n",
      "Epoch: 67, Loss: 392.52688854932785\n",
      "Epoch: 68, Loss: 392.17456847056746\n",
      "Epoch: 69, Loss: 391.7646986991167\n",
      "Epoch: 70, Loss: 391.418872769922\n",
      "Epoch: 71, Loss: 391.1438882313669\n",
      "Epoch: 72, Loss: 390.97031842917204\n",
      "Epoch: 73, Loss: 390.8716303743422\n",
      "Epoch: 74, Loss: 390.7385031878948\n",
      "Epoch: 75, Loss: 390.4718704856932\n",
      "Epoch: 76, Loss: 390.15885665267706\n",
      "Epoch: 77, Loss: 389.8615001514554\n",
      "Epoch: 78, Loss: 389.6561664156616\n",
      "Epoch: 79, Loss: 389.43440916389227\n",
      "Epoch: 80, Loss: 389.3349970728159\n",
      "Epoch: 81, Loss: 389.3606334775686\n",
      "Epoch: 82, Loss: 389.1235070042312\n",
      "Epoch: 83, Loss: 388.7726175226271\n",
      "Epoch: 84, Loss: 388.51978888362646\n",
      "Epoch: 85, Loss: 388.30687114968896\n",
      "Epoch: 86, Loss: 388.11773167550564\n",
      "Epoch: 87, Loss: 387.96227369084954\n",
      "Epoch: 88, Loss: 387.8340343311429\n",
      "Epoch: 89, Loss: 387.79917449876666\n",
      "Epoch: 90, Loss: 387.89262710884213\n",
      "Epoch: 91, Loss: 388.00673615932465\n",
      "Epoch: 92, Loss: 388.04047594964504\n",
      "Epoch: 93, Loss: 387.7181125432253\n",
      "Epoch: 94, Loss: 387.5082745477557\n",
      "Epoch: 95, Loss: 387.3546442762017\n",
      "Epoch: 96, Loss: 387.2002709135413\n",
      "Epoch: 97, Loss: 387.05565955117345\n",
      "Epoch: 98, Loss: 386.99234576895833\n",
      "Epoch: 99, Loss: 386.910102147609\n",
      "Epoch: 100, Loss: 386.79842745885253\n"
     ]
    }
   ],
   "source": [
    "model = Transformer(src_vocab_size, d_model, num_heads, num_layers, d_ff, max_seq_length)\n",
    "\n",
    "criterion = nn.CrossEntropyLoss()\n",
    "optimizer = optim.Adam(model.parameters(), lr=0.0001, betas=(0.9, 0.98), eps=1e-9)\n",
    "\n",
    "model.train()\n",
    "\n",
    "losses = []\n",
    "accuracy = []\n",
    "\n",
    "true_positive = []\n",
    "false_positive = []\n",
    "true_negative = []\n",
    "false_negative = []\n",
    "\n",
    "for epoch in range(100):\n",
    "    model.train()\n",
    "    loss_total = 0\n",
    "    for i in range(len(train_X) // num_sequences_per_batch):\n",
    "        src_data, tgt_data = next(train_generator)\n",
    "        optimizer.zero_grad()\n",
    "        output = model(src_data)\n",
    "        loss = criterion(output.contiguous().view(-1), tgt_data.contiguous().view(-1))\n",
    "        loss.backward()\n",
    "        optimizer.step()\n",
    "        loss_total += loss.item()\n",
    "\n",
    "    model.eval()\n",
    "    y_pred = np.array([])\n",
    "\n",
    "    for i in range(len(train_X) // num_sequences_per_batch):\n",
    "        src_data, tgt_data = next(train_generator)\n",
    "\n",
    "        pred = model.forward(torch.from_numpy((np.array(src_data, dtype=int))))\n",
    "        pred = np.where(pred.contiguous().view(-1) > 0.5, 1, 0)\n",
    "        y_pred = np.concatenate((y_pred, pred))\n",
    "\n",
    "    accuracy += [np.sum(np.where(y_pred == train_Y, 1, 0)) / len(train_Y)]\n",
    "    true_positive += [np.sum(np.where(y_pred == train_Y, 1, 0) * np.where(train_Y == 1, 1, 0))]\n",
    "    false_positive += [np.sum(np.where(y_pred != train_Y, 1, 0) * np.where(train_Y == 0, 1, 0))]\n",
    "    true_negative += [np.sum(np.where(y_pred == train_Y, 1, 0) * np.where(train_Y == 0, 1, 0))]\n",
    "    false_negative += [np.sum(np.where(y_pred != train_Y, 1, 0) * np.where(train_Y == 1, 1, 0))]\n",
    "    losses += [loss_total / num_sequences_per_batch]\n",
    "\n",
    "    print(f\"Epoch: {epoch+1}, Loss: {loss_total / num_sequences_per_batch}\")\n",
    "\n",
    "\n",
    "torch.save(model.state_dict(), MODEL_SAVE_FILE)"
   ],
   "metadata": {
    "collapsed": false,
    "pycharm": {
     "name": "#%%\n"
    }
   }
  },
  {
   "cell_type": "code",
   "execution_count": 20,
   "outputs": [
    {
     "data": {
      "text/plain": "<Figure size 432x288 with 1 Axes>",
      "image/png": "[encoded data removed]"
     },
     "metadata": {
      "needs_background": "light"
     },
     "output_type": "display_data"
    },
    {
     "data": {
      "text/plain": "<Figure size 432x288 with 1 Axes>",
      "image/png": "[encoded data removed]"
     },
     "metadata": {
      "needs_background": "light"
     },
     "output_type": "display_data"
    }
   ],
   "source": [
    "\n",
    "plt.plot([i for i in range(len(losses))], losses)\n",
    "plt.title(\"Training Loss\")\n",
    "plt.show()\n",
    "\n",
    "recall = [true_positive[i]/(true_positive[i] + false_negative[i]) for i in range(len(true_positive))]\n",
    "precision = [true_positive[i]/(true_positive[i] + false_positive[i]) for i in range(len(true_positive))]\n",
    "f1 = [2 * (recall[i] * precision[i])/(recall[i] + precision[i]) for i in range(len(recall))]\n",
    "\n",
    "plt.title(\"Training Metrics\")\n",
    "plt.plot([i for i in range(len(accuracy))], accuracy, label='accuracy')\n",
    "plt.plot([i for i in range(len(precision))], precision, label='precision')\n",
    "plt.plot([i for i in range(len(recall))], recall, label='recall')\n",
    "plt.plot([i for i in range(len(f1))], f1, label='f1_score')\n",
    "plt.legend()\n",
    "plt.ylim(0,1)\n",
    "plt.show()\n"
   ],
   "metadata": {
    "collapsed": false,
    "pycharm": {
     "name": "#%%\n"
    }
   }
  },
  {
   "cell_type": "code",
   "execution_count": 22,
   "outputs": [
    {
     "name": "stdout",
     "output_type": "stream",
     "text": [
      "Train accuracy: 0.929140625\n",
      "Precision: 0.9458064516129032\n",
      "Recall: 0.9112665112665113\n",
      "F1: 0.9282152750296795\n"
     ]
    }
   ],
   "source": [
    "model = Transformer(src_vocab_size, d_model, num_heads, num_layers, d_ff, max_seq_length)\n",
    "model.load_state_dict(torch.load(MODEL_LOAD_FILE))\n",
    "\n",
    "model.eval()\n",
    "\n",
    "y_pred = np.array([])\n",
    "train_generator = data_generator(train_X, train_Y)\n",
    "\n",
    "for i in range(len(train_X) // num_sequences_per_batch):\n",
    "        src_data, tgt_data = next(train_generator)\n",
    "\n",
    "        pred = model.forward(torch.from_numpy((np.array(src_data, dtype=int))))\n",
    "        pred = np.where(pred.contiguous().view(-1) > 0.5, 1, 0)\n",
    "        y_pred = np.concatenate((y_pred, pred))\n",
    "\n",
    "train_accuracy = np.sum(np.where(y_pred == train_Y, 1, 0)) / len(train_Y)\n",
    "true_positive = np.sum(np.where(y_pred == train_Y, 1, 0) * np.where(train_Y == 1, 1, 0))\n",
    "false_positive = np.sum(np.where(y_pred != train_Y, 1, 0) * np.where(train_Y == 0, 1, 0))\n",
    "true_negative = np.sum(np.where(y_pred == train_Y, 1, 0) * np.where(train_Y == 0, 1, 0))\n",
    "false_negative = np.sum(np.where(y_pred != train_Y, 1, 0) * np.where(train_Y == 1, 1, 0))\n",
    "\n",
    "recall = true_positive/(true_positive + false_negative)\n",
    "precision = true_positive/(true_positive + false_positive)\n",
    "f1 = 2 * (recall * precision)/(recall + precision)\n",
    "\n",
    "print(f\"Train accuracy: {train_accuracy}\")\n",
    "print(f\"Precision: {precision}\")\n",
    "print(f\"Recall: {recall}\")\n",
    "print(f\"F1: {f1}\")"
   ],
   "metadata": {
    "collapsed": false,
    "pycharm": {
     "name": "#%%\n"
    }
   }
  },
  {
   "cell_type": "markdown",
   "source": [
    "# Evaluating the Model #\n",
    "Evaluates the model's performance on the test tweets, the ChatGPT dataset, and the financial dataset."
   ],
   "metadata": {
    "collapsed": false,
    "pycharm": {
     "name": "#%% md\n"
    }
   }
  },
  {
   "cell_type": "markdown",
   "source": [
    "## Tweet Sentiment (Test Set) ##\n"
   ],
   "metadata": {
    "collapsed": false,
    "pycharm": {
     "name": "#%% md\n"
    }
   }
  },
  {
   "cell_type": "code",
   "execution_count": 23,
   "outputs": [
    {
     "name": "stdout",
     "output_type": "stream",
     "text": [
      "Test accuracy: 0.6578125\n",
      "Precision: 0.6990068754774638\n",
      "Recall: 0.5662128712871287\n",
      "F1: 0.6256410256410257\n"
     ]
    }
   ],
   "source": [
    "model = Transformer(src_vocab_size, d_model, num_heads, num_layers, d_ff, max_seq_length)\n",
    "model.load_state_dict(torch.load(MODEL_LOAD_FILE))\n",
    "\n",
    "model.eval()\n",
    "\n",
    "y_pred = np.array([])\n",
    "\n",
    "for i in range(len(test_X) // num_sequences_per_batch):\n",
    "        src_data, tgt_data = next(test_generator)\n",
    "\n",
    "        pred = model.forward(torch.from_numpy((np.array(src_data, dtype=int))))\n",
    "        pred = np.where(pred.contiguous().view(-1) > 0.5, 1, 0)\n",
    "        y_pred = np.concatenate((y_pred, pred))\n",
    "\n",
    "test_accuracy = np.sum(np.where(y_pred == test_Y, 1, 0)) / len(test_Y)\n",
    "true_positive = np.sum(np.where(y_pred == test_Y, 1, 0) * np.where(test_Y == 1, 1, 0))\n",
    "false_positive = np.sum(np.where(y_pred != test_Y, 1, 0) * np.where(test_Y == 0, 1, 0))\n",
    "true_negative = np.sum(np.where(y_pred == test_Y, 1, 0) * np.where(test_Y == 0, 1, 0))\n",
    "false_negative = np.sum(np.where(y_pred != test_Y, 1, 0) * np.where(test_Y == 1, 1, 0))\n",
    "\n",
    "recall = true_positive/(true_positive + false_negative)\n",
    "precision = true_positive/(true_positive + false_positive)\n",
    "f1 = 2 * (recall * precision)/(recall + precision)\n",
    "\n",
    "print(f\"Test accuracy: {test_accuracy}\")\n",
    "print(f\"Precision: {precision}\")\n",
    "print(f\"Recall: {recall}\")\n",
    "print(f\"F1: {f1}\")"
   ],
   "metadata": {
    "collapsed": false,
    "pycharm": {
     "name": "#%%\n"
    }
   }
  },
  {
   "cell_type": "markdown",
   "source": [
    "## ChatGPT Tweet Sentiment ##"
   ],
   "metadata": {
    "collapsed": false,
    "pycharm": {
     "name": "#%% md\n"
    }
   }
  },
  {
   "cell_type": "code",
   "execution_count": 24,
   "outputs": [
    {
     "name": "stdout",
     "output_type": "stream",
     "text": [
      "Test accuracy: 0.516875\n",
      "Precision: 0.3367198838896952\n",
      "Recall: 0.4233576642335766\n",
      "F1: 0.37510105092966856\n"
     ]
    }
   ],
   "source": [
    "y_pred = np.array([])\n",
    "\n",
    "for i in range(len(chatgpt_Y) // num_sequences_per_batch):\n",
    "        src_data, tgt_data = next(chatgpt_generator)\n",
    "\n",
    "        pred = model.forward(torch.from_numpy((np.array(src_data, dtype=int))))\n",
    "        pred = np.where(pred.contiguous().view(-1) > 0.5, 1, 0)\n",
    "        y_pred = np.concatenate((y_pred, pred))\n",
    "\n",
    "\n",
    "adjusted_y = chatgpt_Y[:(len(chatgpt_Y) // num_sequences_per_batch) * num_sequences_per_batch]\n",
    "test_accuracy = np.sum(np.where(y_pred == adjusted_y, 1, 0)) / len(adjusted_y)\n",
    "true_positive = np.sum(np.where(y_pred == adjusted_y, 1, 0) * np.where(adjusted_y == 1, 1, 0))\n",
    "false_positive = np.sum(np.where(y_pred != adjusted_y, 1, 0) * np.where(adjusted_y == 0, 1, 0))\n",
    "true_negative = np.sum(np.where(y_pred == adjusted_y, 1, 0) * np.where(adjusted_y == 0, 1, 0))\n",
    "false_negative = np.sum(np.where(y_pred != adjusted_y, 1, 0) * np.where(adjusted_y == 1, 1, 0))\n",
    "\n",
    "recall = true_positive/(true_positive + false_negative)\n",
    "precision = true_positive/(true_positive + false_positive)\n",
    "f1 = 2 * (recall * precision)/(recall + precision)\n",
    "\n",
    "print(f\"Test accuracy: {test_accuracy}\")\n",
    "print(f\"Precision: {precision}\")\n",
    "print(f\"Recall: {recall}\")\n",
    "print(f\"F1: {f1}\")\n"
   ],
   "metadata": {
    "collapsed": false,
    "pycharm": {
     "name": "#%%\n"
    }
   }
  },
  {
   "cell_type": "markdown",
   "source": [
    "## Finacial Phrasebook ##"
   ],
   "metadata": {
    "collapsed": false,
    "pycharm": {
     "name": "#%% md\n"
    }
   }
  },
  {
   "cell_type": "code",
   "execution_count": 25,
   "outputs": [
    {
     "name": "stdout",
     "output_type": "stream",
     "text": [
      "Test accuracy: 0.4375\n",
      "Precision: 0.7397260273972602\n",
      "Recall: 0.3176470588235294\n",
      "F1: 0.44444444444444436\n"
     ]
    }
   ],
   "source": [
    "y_pred = np.array([])\n",
    "\n",
    "for i in range(len(financial_Y) // num_sequences_per_batch):\n",
    "        src_data, tgt_data = next(financial_generator)\n",
    "\n",
    "        pred = model.forward(torch.from_numpy((np.array(src_data, dtype=int))))\n",
    "        pred = np.where(pred.contiguous().view(-1) > 0.5, 1, 0)\n",
    "        y_pred = np.concatenate((y_pred, pred))\n",
    "\n",
    "adjusted_y = financial_Y[:(len(financial_Y) // num_sequences_per_batch) * num_sequences_per_batch]\n",
    "test_accuracy = np.sum(np.where(y_pred == adjusted_y, 1, 0)) / len(adjusted_y)\n",
    "true_positive = np.sum(np.where(y_pred == adjusted_y, 1, 0) * np.where(adjusted_y == 1, 1, 0))\n",
    "false_positive = np.sum(np.where(y_pred != adjusted_y, 1, 0) * np.where(adjusted_y == 0, 1, 0))\n",
    "true_negative = np.sum(np.where(y_pred == adjusted_y, 1, 0) * np.where(adjusted_y == 0, 1, 0))\n",
    "false_negative = np.sum(np.where(y_pred != adjusted_y, 1, 0) * np.where(adjusted_y == 1, 1, 0))\n",
    "\n",
    "recall = true_positive/(true_positive + false_negative)\n",
    "precision = true_positive/(true_positive + false_positive)\n",
    "f1 = 2 * (recall * precision)/(recall + precision)\n",
    "\n",
    "print(f\"Test accuracy: {test_accuracy}\")\n",
    "print(f\"Precision: {precision}\")\n",
    "print(f\"Recall: {recall}\")\n",
    "print(f\"F1: {f1}\")"
   ],
   "metadata": {
    "collapsed": false,
    "pycharm": {
     "name": "#%%\n"
    }
   }
  },
  {
   "cell_type": "code",
   "execution_count": null,
   "outputs": [],
   "source": [],
   "metadata": {
    "collapsed": false,
    "pycharm": {
     "name": "#%%\n"
    }
   }
  }
 ],
 "metadata": {
  "kernelspec": {
   "display_name": "Python 3",
   "language": "python",
   "name": "python3"
  },
  "language_info": {
   "codemirror_mode": {
    "name": "ipython",
    "version": 2
   },
   "file_extension": ".py",
   "mimetype": "text/x-python",
   "name": "python",
   "nbconvert_exporter": "python",
   "pygments_lexer": "ipython2",
   "version": "2.7.6"
  }
 },
 "nbformat": 4,
 "nbformat_minor": 0
}